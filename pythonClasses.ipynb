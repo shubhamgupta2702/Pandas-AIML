{
 "cells": [
  {
   "cell_type": "code",
   "execution_count": 1,
   "id": "170c95e8",
   "metadata": {},
   "outputs": [],
   "source": [
    "from dataclasses import dataclass\n",
    "\n",
    "@dataclass\n",
    "class Person:\n",
    "  name:str\n",
    "  age:int\n",
    "  profession:str"
   ]
  },
  {
   "cell_type": "markdown",
   "id": "73cc7671",
   "metadata": {},
   "source": [
    "the @dataclass decorator automatically generated the following methods for you:\n",
    "1. __init__(): initializes the object and assigns the provided values to the attributes.\n",
    "2. __repr__():provide a string representation of the object.\n",
    "3. __eq__():implements equality comparison between two objects of the class based on their attributes."
   ]
  },
  {
   "cell_type": "code",
   "execution_count": 19,
   "id": "860fec98",
   "metadata": {},
   "outputs": [
    {
     "data": {
      "text/plain": [
       "19"
      ]
     },
     "execution_count": 19,
     "metadata": {},
     "output_type": "execute_result"
    }
   ],
   "source": [
    "person1 = Person(\"Shubham\",19,\"AI/ML Enthusiats\")\n",
    "person1.name\n",
    "person1.profession\n",
    "person1.age"
   ]
  },
  {
   "cell_type": "code",
   "execution_count": 25,
   "id": "19f9336a",
   "metadata": {},
   "outputs": [
    {
     "data": {
      "text/plain": [
       "'red'"
      ]
     },
     "execution_count": 25,
     "metadata": {},
     "output_type": "execute_result"
    }
   ],
   "source": [
    "@dataclass\n",
    "class Rectangle:\n",
    "  width:int\n",
    "  height:int\n",
    "  color:str='white'\n",
    "  \n",
    "rectangle1 = Rectangle(15,17)\n",
    "rectangle2 = Rectangle(15,17,'red')\n",
    "rectangle2.color"
   ]
  },
  {
   "cell_type": "code",
   "execution_count": null,
   "id": "ed3739f1",
   "metadata": {},
   "outputs": [],
   "source": [
    "@dataclass(frozen=True)  #we cannot change value after frozen used\n",
    "class Petrol:\n",
    "  x:int\n",
    "  y:str"
   ]
  },
  {
   "cell_type": "code",
   "execution_count": 27,
   "id": "768c336f",
   "metadata": {},
   "outputs": [],
   "source": [
    "point = Petrol(3,'BMW')"
   ]
  },
  {
   "cell_type": "code",
   "execution_count": 28,
   "id": "c288af4c",
   "metadata": {},
   "outputs": [
    {
     "data": {
      "text/plain": [
       "(3, 'BMW')"
      ]
     },
     "execution_count": 28,
     "metadata": {},
     "output_type": "execute_result"
    }
   ],
   "source": [
    "point.x,point.y"
   ]
  },
  {
   "cell_type": "code",
   "execution_count": 29,
   "id": "133ec35b",
   "metadata": {},
   "outputs": [],
   "source": [
    "##inheritence\n",
    "\n",
    "@dataclass\n",
    "class Company:\n",
    "  name:str\n",
    "  job_profile:str\n",
    "  e_id:int\n",
    "  \n",
    "@dataclass\n",
    "class Employee(Company):\n",
    "  emp_id:str\n",
    "  department:str"
   ]
  },
  {
   "cell_type": "code",
   "execution_count": 32,
   "id": "164bd4c6",
   "metadata": {},
   "outputs": [],
   "source": [
    "person = Company(\"Shubham\", \"AI Engineer\", 780)\n",
    "employee = Employee(\"Shubham\", \"AI Enginner\", 7885,\"google3243\",\"IT\")"
   ]
  },
  {
   "cell_type": "code",
   "execution_count": 34,
   "id": "6a755132",
   "metadata": {},
   "outputs": [
    {
     "data": {
      "text/plain": [
       "Employee(name='Shubham', job_profile='AI Enginner', e_id=7885, emp_id='google3243', department='IT')"
      ]
     },
     "execution_count": 34,
     "metadata": {},
     "output_type": "execute_result"
    }
   ],
   "source": [
    "employee"
   ]
  },
  {
   "cell_type": "code",
   "execution_count": 40,
   "id": "2f15fbe5",
   "metadata": {},
   "outputs": [],
   "source": [
    "@dataclass\n",
    "class Address:\n",
    "  street:str\n",
    "  city:str\n",
    "  pinCode:int\n",
    "\n",
    "@dataclass\n",
    "class bioData:\n",
    "  name:str\n",
    "  job:str\n",
    "  address:Address"
   ]
  },
  {
   "cell_type": "code",
   "execution_count": 41,
   "id": "96576e92",
   "metadata": {},
   "outputs": [],
   "source": [
    "add = Address(\"Panti Gali\", \"Mau\",221603)\n",
    "bD = bioData(\"Shubham Gupta\",\"AI/Ml Engineer\",add)"
   ]
  },
  {
   "cell_type": "code",
   "execution_count": 42,
   "id": "ca2d7d10",
   "metadata": {},
   "outputs": [
    {
     "data": {
      "text/plain": [
       "bioData(name='Shubham Gupta', job='AI/Ml Engineer', address=Address(street='Panti Gali', city='Mau', pinCode=221603))"
      ]
     },
     "execution_count": 42,
     "metadata": {},
     "output_type": "execute_result"
    }
   ],
   "source": [
    "bD"
   ]
  },
  {
   "cell_type": "code",
   "execution_count": null,
   "id": "e3d87b89",
   "metadata": {},
   "outputs": [],
   "source": []
  },
  {
   "cell_type": "code",
   "execution_count": null,
   "id": "01e01036",
   "metadata": {},
   "outputs": [],
   "source": []
  },
  {
   "cell_type": "code",
   "execution_count": null,
   "id": "030aa7a5",
   "metadata": {},
   "outputs": [],
   "source": []
  },
  {
   "cell_type": "code",
   "execution_count": null,
   "id": "f66c8938",
   "metadata": {},
   "outputs": [],
   "source": []
  },
  {
   "cell_type": "code",
   "execution_count": null,
   "id": "33c76c98",
   "metadata": {},
   "outputs": [],
   "source": []
  },
  {
   "cell_type": "code",
   "execution_count": null,
   "id": "463066ec",
   "metadata": {},
   "outputs": [],
   "source": []
  },
  {
   "cell_type": "code",
   "execution_count": null,
   "id": "86e8a7c4",
   "metadata": {},
   "outputs": [],
   "source": []
  },
  {
   "cell_type": "code",
   "execution_count": null,
   "id": "772b4991",
   "metadata": {},
   "outputs": [],
   "source": []
  },
  {
   "cell_type": "code",
   "execution_count": null,
   "id": "09f29297",
   "metadata": {},
   "outputs": [],
   "source": []
  },
  {
   "cell_type": "code",
   "execution_count": null,
   "id": "28c5b4a1",
   "metadata": {},
   "outputs": [],
   "source": []
  },
  {
   "cell_type": "code",
   "execution_count": null,
   "id": "d934990e",
   "metadata": {},
   "outputs": [],
   "source": []
  },
  {
   "cell_type": "code",
   "execution_count": null,
   "id": "5146c1f8",
   "metadata": {},
   "outputs": [],
   "source": []
  },
  {
   "cell_type": "code",
   "execution_count": null,
   "id": "c9a7a456",
   "metadata": {},
   "outputs": [],
   "source": []
  },
  {
   "cell_type": "code",
   "execution_count": null,
   "id": "0332388f",
   "metadata": {},
   "outputs": [],
   "source": []
  },
  {
   "cell_type": "code",
   "execution_count": null,
   "id": "9408f3ea",
   "metadata": {},
   "outputs": [],
   "source": []
  }
 ],
 "metadata": {
  "kernelspec": {
   "display_name": "Python 3",
   "language": "python",
   "name": "python3"
  },
  "language_info": {
   "codemirror_mode": {
    "name": "ipython",
    "version": 3
   },
   "file_extension": ".py",
   "mimetype": "text/x-python",
   "name": "python",
   "nbconvert_exporter": "python",
   "pygments_lexer": "ipython3",
   "version": "3.13.1"
  }
 },
 "nbformat": 4,
 "nbformat_minor": 5
}
